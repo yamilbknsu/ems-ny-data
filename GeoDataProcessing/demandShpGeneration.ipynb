{
 "metadata": {
  "language_info": {
   "codemirror_mode": {
    "name": "ipython",
    "version": 3
   },
   "file_extension": ".py",
   "mimetype": "text/x-python",
   "name": "python",
   "nbconvert_exporter": "python",
   "pygments_lexer": "ipython3",
   "version": "3.6.12-final"
  },
  "orig_nbformat": 2,
  "kernelspec": {
   "name": "python3",
   "display_name": "Python 3"
  }
 },
 "nbformat": 4,
 "nbformat_minor": 2,
 "cells": [
  {
   "cell_type": "code",
   "execution_count": 1,
   "metadata": {},
   "outputs": [],
   "source": [
    "import pickle\n",
    "import numpy as np\n",
    "import pandas as pd\n",
    "import seaborn as sns\n",
    "import geopandas as gpd\n",
    "from datetime import datetime\n",
    "import matplotlib.pyplot as plt"
   ]
  },
  {
   "cell_type": "code",
   "execution_count": 3,
   "metadata": {},
   "outputs": [
    {
     "output_type": "execute_result",
     "data": {
      "text/plain": [
       "(523661, 827883)"
      ]
     },
     "metadata": {},
     "execution_count": 3
    }
   ],
   "source": [
    "DATA_DIR = 'C://Users//Yamil//Proyectos//Proyectos en Git//Memoria Ambulancias//Old Files//data//'\n",
    "with open(DATA_DIR + 'dispatch_data_workable.pickle', 'rb') as f:\n",
    "    df = pickle.load(f)\n",
    "df = df[df['year'] == 2019]\n",
    "HSdf = df[(df['FINAL_SEVERITY_LEVEL_CODE'] <= 3) & (df['INCIDENT_DISPOSITION_CODE'] != 87) & (df['INCIDENT_DISPOSITION_CODE'] != 90)]\n",
    "LSdf = df[(df['FINAL_SEVERITY_LEVEL_CODE'] >= 4) & (df['INCIDENT_DISPOSITION_CODE'] != 87) & (df['INCIDENT_DISPOSITION_CODE'] != 90)]\n",
    "len(HSdf), len(LSdf)"
   ]
  },
  {
   "cell_type": "code",
   "execution_count": 4,
   "metadata": {},
   "outputs": [],
   "source": [
    "def generateDemandShapefiles(original_df, demandPoints, zip_codes, save_dir):\n",
    "    final_events_df = pd.DataFrame([])\n",
    "\n",
    "    for code in zip_codes:\n",
    "        zip_points = demandPoints[demandPoints['ZIPCODE'] == str(code)]\n",
    "        sub_df = original_df[original_df['ZIPCODE'] == int(code)]\n",
    "        \n",
    "        new_df = sub_df[['INCIDENT_DATETIME', 'FINAL_SEVERITY_LEVEL_CODE']]\n",
    "        samplepoints = zip_points.sample(len(new_df), replace=True)[['geometry', 'id']]\n",
    "        new_df['geometry'] = list(samplepoints['geometry'])\n",
    "        new_df['pointid'] = list(samplepoints['id'].astype('int64'))\n",
    "        \n",
    "        \n",
    "        final_events_df = final_events_df.append(new_df, ignore_index = True)\n",
    "        \n",
    "    final_events_df = final_events_df.sort_values(by='INCIDENT_DATETIME')\n",
    "    final_events_df.index = range(len(final_events_df))\n",
    "    \n",
    "    final_events_df['INCIDENT_DATETIME'] = final_events_df['INCIDENT_DATETIME'].dt.strftime('%m/%d/%Y %H:%M:%S')\n",
    "    final_events_gdf = gpd.GeoDataFrame(final_events_df, geometry = 'geometry')\n",
    "    final_events_gdf.crs = 'epsg:4326'\n",
    "    final_events_gdf.to_file(save_dir)"
   ]
  },
  {
   "cell_type": "code",
   "execution_count": 10,
   "metadata": {},
   "outputs": [],
   "source": [
    "DATA_DIR = 'C://Users//Yamil//Proyectos//Proyectos en Git//Memoria Ambulancias//Old Files//Generated Shapefiles//GeoTools//'\n",
    "UniformDemandPoints = gpd.read_file(DATA_DIR + 'Uniform600m//Uniform600mDemandNew.geojson')\n",
    "zip_codes = UniformDemandPoints['ZIPCODE'].unique()"
   ]
  },
  {
   "cell_type": "code",
   "execution_count": 11,
   "metadata": {},
   "outputs": [],
   "source": [
    "DATA_DIR = 'C://Users//Yamil//Proyectos//Proyectos en Git//Memoria Ambulancias//Old Files//Generated Shapefiles//Dispatch Demand Shapefiles//final//'\n",
    "names = ['HS', 'LS']\n",
    "for i, original_df in enumerate([HSdf, LSdf]):\n",
    "    generateDemandShapefiles(original_df, UniformDemandPoints, zip_codes, DATA_DIR + names[i] +\"demands.shp\")"
   ]
  },
  {
   "cell_type": "code",
   "execution_count": null,
   "metadata": {},
   "outputs": [],
   "source": []
  }
 ]
}