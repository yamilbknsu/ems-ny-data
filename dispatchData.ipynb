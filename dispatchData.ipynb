{
 "metadata": {
  "language_info": {
   "codemirror_mode": {
    "name": "ipython",
    "version": 3
   },
   "file_extension": ".py",
   "mimetype": "text/x-python",
   "name": "python",
   "nbconvert_exporter": "python",
   "pygments_lexer": "ipython3",
   "version": "3.6.12-final"
  },
  "orig_nbformat": 2,
  "kernelspec": {
   "name": "Python 3.6.12 64-bit ('py3.6geo': conda)",
   "display_name": "Python 3.6.12 64-bit ('py3.6geo': conda)",
   "metadata": {
    "interpreter": {
     "hash": "0b6479cf4b1d0e3eb9842d939a6fff16a949423dc35e405ed101be3f3030dd7d"
    }
   }
  }
 },
 "nbformat": 4,
 "nbformat_minor": 2,
 "cells": [
  {
   "cell_type": "code",
   "execution_count": 1,
   "metadata": {},
   "outputs": [],
   "source": [
    "import pandas as pd"
   ]
  },
  {
   "cell_type": "code",
   "execution_count": 30,
   "metadata": {},
   "outputs": [],
   "source": [
    "DATA_DIR = 'C:/Users/Yamil/Downloads/'\n",
    "dispatch_df = pd.read_csv(DATA_DIR + 'EMS_Incident_Dispatch_Data(1).csv')"
   ]
  },
  {
   "cell_type": "code",
   "execution_count": 8,
   "metadata": {},
   "outputs": [],
   "source": [
    "dispatch_df = dispatch_df.loc[1000000*9:]\n",
    "dispatch_df = dispatch_df.drop(13051923, axis = 0)\n",
    "dispatch_df = dispatch_df.drop(13051924, axis = 0)\n",
    "dispatch_df['CAD_INCIDENT_ID'] = dispatch_df['CAD_INCIDENT_ID'].astype(int)"
   ]
  },
  {
   "cell_type": "code",
   "execution_count": 14,
   "metadata": {},
   "outputs": [
    {
     "output_type": "error",
     "ename": "ValueError",
     "evalue": "invalid literal for int() with base 10: '  \"message\" : \"Internal error\"'",
     "traceback": [
      "\u001b[1;31m---------------------------------------------------------------------------\u001b[0m",
      "\u001b[1;31mValueError\u001b[0m                                Traceback (most recent call last)",
      "\u001b[1;32m<ipython-input-14-d2cc66b3b9ba>\u001b[0m in \u001b[0;36m<module>\u001b[1;34m\u001b[0m\n\u001b[1;32m----> 1\u001b[1;33m \u001b[0mdispatch_df\u001b[0m\u001b[1;33m[\u001b[0m\u001b[1;34m'CAD_INCIDENT_ID'\u001b[0m\u001b[1;33m]\u001b[0m \u001b[1;33m=\u001b[0m \u001b[0mdispatch_df\u001b[0m\u001b[1;33m[\u001b[0m\u001b[1;34m'CAD_INCIDENT_ID'\u001b[0m\u001b[1;33m]\u001b[0m\u001b[1;33m.\u001b[0m\u001b[0mastype\u001b[0m\u001b[1;33m(\u001b[0m\u001b[0mint\u001b[0m\u001b[1;33m)\u001b[0m\u001b[1;33m\u001b[0m\u001b[1;33m\u001b[0m\u001b[0m\n\u001b[0m",
      "\u001b[1;32m~\\Anaconda3\\envs\\py3.6geo\\lib\\site-packages\\pandas\\core\\generic.py\u001b[0m in \u001b[0;36mastype\u001b[1;34m(self, dtype, copy, errors)\u001b[0m\n\u001b[0;32m   5535\u001b[0m         \u001b[1;32melse\u001b[0m\u001b[1;33m:\u001b[0m\u001b[1;33m\u001b[0m\u001b[1;33m\u001b[0m\u001b[0m\n\u001b[0;32m   5536\u001b[0m             \u001b[1;31m# else, only a single dtype is given\u001b[0m\u001b[1;33m\u001b[0m\u001b[1;33m\u001b[0m\u001b[1;33m\u001b[0m\u001b[0m\n\u001b[1;32m-> 5537\u001b[1;33m             \u001b[0mnew_data\u001b[0m \u001b[1;33m=\u001b[0m \u001b[0mself\u001b[0m\u001b[1;33m.\u001b[0m\u001b[0m_mgr\u001b[0m\u001b[1;33m.\u001b[0m\u001b[0mastype\u001b[0m\u001b[1;33m(\u001b[0m\u001b[0mdtype\u001b[0m\u001b[1;33m=\u001b[0m\u001b[0mdtype\u001b[0m\u001b[1;33m,\u001b[0m \u001b[0mcopy\u001b[0m\u001b[1;33m=\u001b[0m\u001b[0mcopy\u001b[0m\u001b[1;33m,\u001b[0m \u001b[0merrors\u001b[0m\u001b[1;33m=\u001b[0m\u001b[0merrors\u001b[0m\u001b[1;33m,\u001b[0m\u001b[1;33m)\u001b[0m\u001b[1;33m\u001b[0m\u001b[1;33m\u001b[0m\u001b[0m\n\u001b[0m\u001b[0;32m   5538\u001b[0m             \u001b[1;32mreturn\u001b[0m \u001b[0mself\u001b[0m\u001b[1;33m.\u001b[0m\u001b[0m_constructor\u001b[0m\u001b[1;33m(\u001b[0m\u001b[0mnew_data\u001b[0m\u001b[1;33m)\u001b[0m\u001b[1;33m.\u001b[0m\u001b[0m__finalize__\u001b[0m\u001b[1;33m(\u001b[0m\u001b[0mself\u001b[0m\u001b[1;33m,\u001b[0m \u001b[0mmethod\u001b[0m\u001b[1;33m=\u001b[0m\u001b[1;34m\"astype\"\u001b[0m\u001b[1;33m)\u001b[0m\u001b[1;33m\u001b[0m\u001b[1;33m\u001b[0m\u001b[0m\n\u001b[0;32m   5539\u001b[0m \u001b[1;33m\u001b[0m\u001b[0m\n",
      "\u001b[1;32m~\\Anaconda3\\envs\\py3.6geo\\lib\\site-packages\\pandas\\core\\internals\\managers.py\u001b[0m in \u001b[0;36mastype\u001b[1;34m(self, dtype, copy, errors)\u001b[0m\n\u001b[0;32m    593\u001b[0m         \u001b[0mself\u001b[0m\u001b[1;33m,\u001b[0m \u001b[0mdtype\u001b[0m\u001b[1;33m,\u001b[0m \u001b[0mcopy\u001b[0m\u001b[1;33m:\u001b[0m \u001b[0mbool\u001b[0m \u001b[1;33m=\u001b[0m \u001b[1;32mFalse\u001b[0m\u001b[1;33m,\u001b[0m \u001b[0merrors\u001b[0m\u001b[1;33m:\u001b[0m \u001b[0mstr\u001b[0m \u001b[1;33m=\u001b[0m \u001b[1;34m\"raise\"\u001b[0m\u001b[1;33m\u001b[0m\u001b[1;33m\u001b[0m\u001b[0m\n\u001b[0;32m    594\u001b[0m     ) -> \"BlockManager\":\n\u001b[1;32m--> 595\u001b[1;33m         \u001b[1;32mreturn\u001b[0m \u001b[0mself\u001b[0m\u001b[1;33m.\u001b[0m\u001b[0mapply\u001b[0m\u001b[1;33m(\u001b[0m\u001b[1;34m\"astype\"\u001b[0m\u001b[1;33m,\u001b[0m \u001b[0mdtype\u001b[0m\u001b[1;33m=\u001b[0m\u001b[0mdtype\u001b[0m\u001b[1;33m,\u001b[0m \u001b[0mcopy\u001b[0m\u001b[1;33m=\u001b[0m\u001b[0mcopy\u001b[0m\u001b[1;33m,\u001b[0m \u001b[0merrors\u001b[0m\u001b[1;33m=\u001b[0m\u001b[0merrors\u001b[0m\u001b[1;33m)\u001b[0m\u001b[1;33m\u001b[0m\u001b[1;33m\u001b[0m\u001b[0m\n\u001b[0m\u001b[0;32m    596\u001b[0m \u001b[1;33m\u001b[0m\u001b[0m\n\u001b[0;32m    597\u001b[0m     def convert(\n",
      "\u001b[1;32m~\\Anaconda3\\envs\\py3.6geo\\lib\\site-packages\\pandas\\core\\internals\\managers.py\u001b[0m in \u001b[0;36mapply\u001b[1;34m(self, f, align_keys, **kwargs)\u001b[0m\n\u001b[0;32m    404\u001b[0m                 \u001b[0mapplied\u001b[0m \u001b[1;33m=\u001b[0m \u001b[0mb\u001b[0m\u001b[1;33m.\u001b[0m\u001b[0mapply\u001b[0m\u001b[1;33m(\u001b[0m\u001b[0mf\u001b[0m\u001b[1;33m,\u001b[0m \u001b[1;33m**\u001b[0m\u001b[0mkwargs\u001b[0m\u001b[1;33m)\u001b[0m\u001b[1;33m\u001b[0m\u001b[1;33m\u001b[0m\u001b[0m\n\u001b[0;32m    405\u001b[0m             \u001b[1;32melse\u001b[0m\u001b[1;33m:\u001b[0m\u001b[1;33m\u001b[0m\u001b[1;33m\u001b[0m\u001b[0m\n\u001b[1;32m--> 406\u001b[1;33m                 \u001b[0mapplied\u001b[0m \u001b[1;33m=\u001b[0m \u001b[0mgetattr\u001b[0m\u001b[1;33m(\u001b[0m\u001b[0mb\u001b[0m\u001b[1;33m,\u001b[0m \u001b[0mf\u001b[0m\u001b[1;33m)\u001b[0m\u001b[1;33m(\u001b[0m\u001b[1;33m**\u001b[0m\u001b[0mkwargs\u001b[0m\u001b[1;33m)\u001b[0m\u001b[1;33m\u001b[0m\u001b[1;33m\u001b[0m\u001b[0m\n\u001b[0m\u001b[0;32m    407\u001b[0m             \u001b[0mresult_blocks\u001b[0m \u001b[1;33m=\u001b[0m \u001b[0m_extend_blocks\u001b[0m\u001b[1;33m(\u001b[0m\u001b[0mapplied\u001b[0m\u001b[1;33m,\u001b[0m \u001b[0mresult_blocks\u001b[0m\u001b[1;33m)\u001b[0m\u001b[1;33m\u001b[0m\u001b[1;33m\u001b[0m\u001b[0m\n\u001b[0;32m    408\u001b[0m \u001b[1;33m\u001b[0m\u001b[0m\n",
      "\u001b[1;32m~\\Anaconda3\\envs\\py3.6geo\\lib\\site-packages\\pandas\\core\\internals\\blocks.py\u001b[0m in \u001b[0;36mastype\u001b[1;34m(self, dtype, copy, errors)\u001b[0m\n\u001b[0;32m    587\u001b[0m             \u001b[0mvals1d\u001b[0m \u001b[1;33m=\u001b[0m \u001b[0mvalues\u001b[0m\u001b[1;33m.\u001b[0m\u001b[0mravel\u001b[0m\u001b[1;33m(\u001b[0m\u001b[1;33m)\u001b[0m\u001b[1;33m\u001b[0m\u001b[1;33m\u001b[0m\u001b[0m\n\u001b[0;32m    588\u001b[0m             \u001b[1;32mtry\u001b[0m\u001b[1;33m:\u001b[0m\u001b[1;33m\u001b[0m\u001b[1;33m\u001b[0m\u001b[0m\n\u001b[1;32m--> 589\u001b[1;33m                 \u001b[0mvalues\u001b[0m \u001b[1;33m=\u001b[0m \u001b[0mastype_nansafe\u001b[0m\u001b[1;33m(\u001b[0m\u001b[0mvals1d\u001b[0m\u001b[1;33m,\u001b[0m \u001b[0mdtype\u001b[0m\u001b[1;33m,\u001b[0m \u001b[0mcopy\u001b[0m\u001b[1;33m=\u001b[0m\u001b[1;32mTrue\u001b[0m\u001b[1;33m)\u001b[0m\u001b[1;33m\u001b[0m\u001b[1;33m\u001b[0m\u001b[0m\n\u001b[0m\u001b[0;32m    590\u001b[0m             \u001b[1;32mexcept\u001b[0m \u001b[1;33m(\u001b[0m\u001b[0mValueError\u001b[0m\u001b[1;33m,\u001b[0m \u001b[0mTypeError\u001b[0m\u001b[1;33m)\u001b[0m\u001b[1;33m:\u001b[0m\u001b[1;33m\u001b[0m\u001b[1;33m\u001b[0m\u001b[0m\n\u001b[0;32m    591\u001b[0m                 \u001b[1;31m# e.g. astype_nansafe can fail on object-dtype of strings\u001b[0m\u001b[1;33m\u001b[0m\u001b[1;33m\u001b[0m\u001b[1;33m\u001b[0m\u001b[0m\n",
      "\u001b[1;32m~\\Anaconda3\\envs\\py3.6geo\\lib\\site-packages\\pandas\\core\\dtypes\\cast.py\u001b[0m in \u001b[0;36mastype_nansafe\u001b[1;34m(arr, dtype, copy, skipna)\u001b[0m\n\u001b[0;32m    964\u001b[0m         \u001b[1;31m# work around NumPy brokenness, #1987\u001b[0m\u001b[1;33m\u001b[0m\u001b[1;33m\u001b[0m\u001b[1;33m\u001b[0m\u001b[0m\n\u001b[0;32m    965\u001b[0m         \u001b[1;32mif\u001b[0m \u001b[0mnp\u001b[0m\u001b[1;33m.\u001b[0m\u001b[0missubdtype\u001b[0m\u001b[1;33m(\u001b[0m\u001b[0mdtype\u001b[0m\u001b[1;33m.\u001b[0m\u001b[0mtype\u001b[0m\u001b[1;33m,\u001b[0m \u001b[0mnp\u001b[0m\u001b[1;33m.\u001b[0m\u001b[0minteger\u001b[0m\u001b[1;33m)\u001b[0m\u001b[1;33m:\u001b[0m\u001b[1;33m\u001b[0m\u001b[1;33m\u001b[0m\u001b[0m\n\u001b[1;32m--> 966\u001b[1;33m             \u001b[1;32mreturn\u001b[0m \u001b[0mlib\u001b[0m\u001b[1;33m.\u001b[0m\u001b[0mastype_intsafe\u001b[0m\u001b[1;33m(\u001b[0m\u001b[0marr\u001b[0m\u001b[1;33m.\u001b[0m\u001b[0mravel\u001b[0m\u001b[1;33m(\u001b[0m\u001b[1;33m)\u001b[0m\u001b[1;33m,\u001b[0m \u001b[0mdtype\u001b[0m\u001b[1;33m)\u001b[0m\u001b[1;33m.\u001b[0m\u001b[0mreshape\u001b[0m\u001b[1;33m(\u001b[0m\u001b[0marr\u001b[0m\u001b[1;33m.\u001b[0m\u001b[0mshape\u001b[0m\u001b[1;33m)\u001b[0m\u001b[1;33m\u001b[0m\u001b[1;33m\u001b[0m\u001b[0m\n\u001b[0m\u001b[0;32m    967\u001b[0m \u001b[1;33m\u001b[0m\u001b[0m\n\u001b[0;32m    968\u001b[0m         \u001b[1;31m# if we have a datetime/timedelta array of objects\u001b[0m\u001b[1;33m\u001b[0m\u001b[1;33m\u001b[0m\u001b[1;33m\u001b[0m\u001b[0m\n",
      "\u001b[1;32mpandas\\_libs\\lib.pyx\u001b[0m in \u001b[0;36mpandas._libs.lib.astype_intsafe\u001b[1;34m()\u001b[0m\n",
      "\u001b[1;31mValueError\u001b[0m: invalid literal for int() with base 10: '  \"message\" : \"Internal error\"'"
     ]
    }
   ],
   "source": [
    "dispatch_df['CAD_INCIDENT_ID'] = dispatch_df['CAD_INCIDENT_ID'].astype(int)\n"
   ]
  },
  {
   "cell_type": "code",
   "execution_count": 17,
   "metadata": {},
   "outputs": [],
   "source": [
    "dispatch_df = dispatch_df.drop(13051924, axis = 0)"
   ]
  },
  {
   "cell_type": "code",
   "execution_count": 31,
   "metadata": {},
   "outputs": [
    {
     "output_type": "execute_result",
     "data": {
      "text/plain": [
       "          CAD_INCIDENT_ID       INCIDENT_DATETIME INITIAL_CALL_TYPE  \\\n",
       "13051910        172960999  10/23/2017 08:33:25 AM              PD13   \n",
       "13051911        172961001  10/23/2017 08:34:11 AM            SICMIN   \n",
       "13051912        172961003  10/23/2017 08:34:23 AM              SICK   \n",
       "13051913        172961004  10/23/2017 08:34:25 AM               EDP   \n",
       "13051914        172961006  10/23/2017 08:34:37 AM            UNKNOW   \n",
       "...                   ...                     ...               ...   \n",
       "20755328         73653405  12/31/2007 11:57:38 PM             ABDPN   \n",
       "20755329         73653406  12/31/2007 11:57:44 PM            INJURY   \n",
       "20755330         73653408  12/31/2007 11:58:27 PM            UNKNOW   \n",
       "20755331         73653409  12/31/2007 11:59:09 PM              SICK   \n",
       "20755332         73653410  12/31/2007 11:59:40 PM            ASTHMB   \n",
       "\n",
       "          INITIAL_SEVERITY_LEVEL_CODE FINAL_CALL_TYPE  \\\n",
       "13051910                            7            PD13   \n",
       "13051911                            7          SICMIN   \n",
       "13051912                            6            SICK   \n",
       "13051913                            7             EDP   \n",
       "13051914                            4          UNKNOW   \n",
       "...                               ...             ...   \n",
       "20755328                            5           ABDPN   \n",
       "20755329                            5          INJURY   \n",
       "20755330                            3          UNKNOW   \n",
       "20755331                            6            SICK   \n",
       "20755332                            2          ASTHMB   \n",
       "\n",
       "          FINAL_SEVERITY_LEVEL_CODE FIRST_ASSIGNMENT_DATETIME  \\\n",
       "13051910                          7    10/23/2017 09:10:19 AM   \n",
       "13051911                          7    10/23/2017 08:34:30 AM   \n",
       "13051912                          6    10/23/2017 08:37:19 AM   \n",
       "13051913                          7    10/23/2017 08:35:44 AM   \n",
       "13051914                          4    10/23/2017 08:51:36 AM   \n",
       "...                             ...                       ...   \n",
       "20755328                          5    12/31/2007 11:58:32 PM   \n",
       "20755329                          5    12/31/2007 11:58:02 PM   \n",
       "20755330                          3    01/01/2008 12:00:24 AM   \n",
       "20755331                          6    12/31/2007 11:59:37 PM   \n",
       "20755332                          2    12/31/2007 11:59:56 PM   \n",
       "\n",
       "         VALID_DISPATCH_RSPNS_TIME_INDC  DISPATCH_RESPONSE_SECONDS_QY  \\\n",
       "13051910                           True                          2214   \n",
       "13051911                           True                            19   \n",
       "13051912                           True                           176   \n",
       "13051913                           True                            79   \n",
       "13051914                           True                          1019   \n",
       "...                                 ...                           ...   \n",
       "20755328                              Y                            54   \n",
       "20755329                              Y                            18   \n",
       "20755330                              Y                           117   \n",
       "20755331                              Y                            28   \n",
       "20755332                              Y                            16   \n",
       "\n",
       "         FIRST_ACTIVATION_DATETIME  ... ZIPCODE POLICEPRECINCT  \\\n",
       "13051910    10/23/2017 09:10:30 AM  ...   10459           41.0   \n",
       "13051911    10/23/2017 08:34:38 AM  ...   11235           61.0   \n",
       "13051912    10/23/2017 08:37:31 AM  ...   10467           52.0   \n",
       "13051913    10/23/2017 08:35:57 AM  ...   11208           75.0   \n",
       "13051914    10/23/2017 08:51:56 AM  ...   10463           50.0   \n",
       "...                            ...  ...     ...            ...   \n",
       "20755328    12/31/2007 11:59:03 PM  ...   11419          102.0   \n",
       "20755329    12/31/2007 11:58:39 PM  ...   11223           60.0   \n",
       "20755330    01/01/2008 12:00:49 AM  ...   10457           46.0   \n",
       "20755331    12/31/2007 11:59:46 PM  ...   11368          115.0   \n",
       "20755332    12/31/2007 11:59:56 PM  ...   10036           14.0   \n",
       "\n",
       "          CITYCOUNCILDISTRICT  COMMUNITYDISTRICT COMMUNITYSCHOOLDISTRICT  \\\n",
       "13051910                 17.0              202.0                     8.0   \n",
       "13051911                 48.0              315.0                    21.0   \n",
       "13051912                 11.0              207.0                    10.0   \n",
       "13051913                 37.0              305.0                    19.0   \n",
       "13051914                 11.0              208.0                    10.0   \n",
       "...                       ...                ...                     ...   \n",
       "20755328                 28.0              409.0                    27.0   \n",
       "20755329                 47.0              313.0                    21.0   \n",
       "20755330                 15.0              205.0                    10.0   \n",
       "20755331                 21.0              403.0                    24.0   \n",
       "20755332                  3.0              105.0                     2.0   \n",
       "\n",
       "         CONGRESSIONALDISTRICT REOPEN_INDICATOR SPECIAL_EVENT_INDICATOR  \\\n",
       "13051910                  15.0            False                   False   \n",
       "13051911                   9.0            False                   False   \n",
       "13051912                  13.0            False                   False   \n",
       "13051913                   7.0            False                   False   \n",
       "13051914                  16.0            False                   False   \n",
       "...                        ...              ...                     ...   \n",
       "20755328                   5.0                N                       N   \n",
       "20755329                  11.0                N                       N   \n",
       "20755330                  15.0                N                       N   \n",
       "20755331                  14.0                N                       N   \n",
       "20755332                  12.0                N                       N   \n",
       "\n",
       "          STANDBY_INDICATOR TRANSFER_INDICATOR  \n",
       "13051910              False              False  \n",
       "13051911              False              False  \n",
       "13051912              False              False  \n",
       "13051913              False              False  \n",
       "13051914              False              False  \n",
       "...                     ...                ...  \n",
       "20755328                  N                  N  \n",
       "20755329                  N                  N  \n",
       "20755330                  N                  N  \n",
       "20755331                  N                  N  \n",
       "20755332                  N                  N  \n",
       "\n",
       "[7703423 rows x 31 columns]"
      ],
      "text/html": "<div>\n<style scoped>\n    .dataframe tbody tr th:only-of-type {\n        vertical-align: middle;\n    }\n\n    .dataframe tbody tr th {\n        vertical-align: top;\n    }\n\n    .dataframe thead th {\n        text-align: right;\n    }\n</style>\n<table border=\"1\" class=\"dataframe\">\n  <thead>\n    <tr style=\"text-align: right;\">\n      <th></th>\n      <th>CAD_INCIDENT_ID</th>\n      <th>INCIDENT_DATETIME</th>\n      <th>INITIAL_CALL_TYPE</th>\n      <th>INITIAL_SEVERITY_LEVEL_CODE</th>\n      <th>FINAL_CALL_TYPE</th>\n      <th>FINAL_SEVERITY_LEVEL_CODE</th>\n      <th>FIRST_ASSIGNMENT_DATETIME</th>\n      <th>VALID_DISPATCH_RSPNS_TIME_INDC</th>\n      <th>DISPATCH_RESPONSE_SECONDS_QY</th>\n      <th>FIRST_ACTIVATION_DATETIME</th>\n      <th>...</th>\n      <th>ZIPCODE</th>\n      <th>POLICEPRECINCT</th>\n      <th>CITYCOUNCILDISTRICT</th>\n      <th>COMMUNITYDISTRICT</th>\n      <th>COMMUNITYSCHOOLDISTRICT</th>\n      <th>CONGRESSIONALDISTRICT</th>\n      <th>REOPEN_INDICATOR</th>\n      <th>SPECIAL_EVENT_INDICATOR</th>\n      <th>STANDBY_INDICATOR</th>\n      <th>TRANSFER_INDICATOR</th>\n    </tr>\n  </thead>\n  <tbody>\n    <tr>\n      <th>13051910</th>\n      <td>172960999</td>\n      <td>10/23/2017 08:33:25 AM</td>\n      <td>PD13</td>\n      <td>7</td>\n      <td>PD13</td>\n      <td>7</td>\n      <td>10/23/2017 09:10:19 AM</td>\n      <td>True</td>\n      <td>2214</td>\n      <td>10/23/2017 09:10:30 AM</td>\n      <td>...</td>\n      <td>10459</td>\n      <td>41.0</td>\n      <td>17.0</td>\n      <td>202.0</td>\n      <td>8.0</td>\n      <td>15.0</td>\n      <td>False</td>\n      <td>False</td>\n      <td>False</td>\n      <td>False</td>\n    </tr>\n    <tr>\n      <th>13051911</th>\n      <td>172961001</td>\n      <td>10/23/2017 08:34:11 AM</td>\n      <td>SICMIN</td>\n      <td>7</td>\n      <td>SICMIN</td>\n      <td>7</td>\n      <td>10/23/2017 08:34:30 AM</td>\n      <td>True</td>\n      <td>19</td>\n      <td>10/23/2017 08:34:38 AM</td>\n      <td>...</td>\n      <td>11235</td>\n      <td>61.0</td>\n      <td>48.0</td>\n      <td>315.0</td>\n      <td>21.0</td>\n      <td>9.0</td>\n      <td>False</td>\n      <td>False</td>\n      <td>False</td>\n      <td>False</td>\n    </tr>\n    <tr>\n      <th>13051912</th>\n      <td>172961003</td>\n      <td>10/23/2017 08:34:23 AM</td>\n      <td>SICK</td>\n      <td>6</td>\n      <td>SICK</td>\n      <td>6</td>\n      <td>10/23/2017 08:37:19 AM</td>\n      <td>True</td>\n      <td>176</td>\n      <td>10/23/2017 08:37:31 AM</td>\n      <td>...</td>\n      <td>10467</td>\n      <td>52.0</td>\n      <td>11.0</td>\n      <td>207.0</td>\n      <td>10.0</td>\n      <td>13.0</td>\n      <td>False</td>\n      <td>False</td>\n      <td>False</td>\n      <td>False</td>\n    </tr>\n    <tr>\n      <th>13051913</th>\n      <td>172961004</td>\n      <td>10/23/2017 08:34:25 AM</td>\n      <td>EDP</td>\n      <td>7</td>\n      <td>EDP</td>\n      <td>7</td>\n      <td>10/23/2017 08:35:44 AM</td>\n      <td>True</td>\n      <td>79</td>\n      <td>10/23/2017 08:35:57 AM</td>\n      <td>...</td>\n      <td>11208</td>\n      <td>75.0</td>\n      <td>37.0</td>\n      <td>305.0</td>\n      <td>19.0</td>\n      <td>7.0</td>\n      <td>False</td>\n      <td>False</td>\n      <td>False</td>\n      <td>False</td>\n    </tr>\n    <tr>\n      <th>13051914</th>\n      <td>172961006</td>\n      <td>10/23/2017 08:34:37 AM</td>\n      <td>UNKNOW</td>\n      <td>4</td>\n      <td>UNKNOW</td>\n      <td>4</td>\n      <td>10/23/2017 08:51:36 AM</td>\n      <td>True</td>\n      <td>1019</td>\n      <td>10/23/2017 08:51:56 AM</td>\n      <td>...</td>\n      <td>10463</td>\n      <td>50.0</td>\n      <td>11.0</td>\n      <td>208.0</td>\n      <td>10.0</td>\n      <td>16.0</td>\n      <td>False</td>\n      <td>False</td>\n      <td>False</td>\n      <td>False</td>\n    </tr>\n    <tr>\n      <th>...</th>\n      <td>...</td>\n      <td>...</td>\n      <td>...</td>\n      <td>...</td>\n      <td>...</td>\n      <td>...</td>\n      <td>...</td>\n      <td>...</td>\n      <td>...</td>\n      <td>...</td>\n      <td>...</td>\n      <td>...</td>\n      <td>...</td>\n      <td>...</td>\n      <td>...</td>\n      <td>...</td>\n      <td>...</td>\n      <td>...</td>\n      <td>...</td>\n      <td>...</td>\n      <td>...</td>\n    </tr>\n    <tr>\n      <th>20755328</th>\n      <td>73653405</td>\n      <td>12/31/2007 11:57:38 PM</td>\n      <td>ABDPN</td>\n      <td>5</td>\n      <td>ABDPN</td>\n      <td>5</td>\n      <td>12/31/2007 11:58:32 PM</td>\n      <td>Y</td>\n      <td>54</td>\n      <td>12/31/2007 11:59:03 PM</td>\n      <td>...</td>\n      <td>11419</td>\n      <td>102.0</td>\n      <td>28.0</td>\n      <td>409.0</td>\n      <td>27.0</td>\n      <td>5.0</td>\n      <td>N</td>\n      <td>N</td>\n      <td>N</td>\n      <td>N</td>\n    </tr>\n    <tr>\n      <th>20755329</th>\n      <td>73653406</td>\n      <td>12/31/2007 11:57:44 PM</td>\n      <td>INJURY</td>\n      <td>5</td>\n      <td>INJURY</td>\n      <td>5</td>\n      <td>12/31/2007 11:58:02 PM</td>\n      <td>Y</td>\n      <td>18</td>\n      <td>12/31/2007 11:58:39 PM</td>\n      <td>...</td>\n      <td>11223</td>\n      <td>60.0</td>\n      <td>47.0</td>\n      <td>313.0</td>\n      <td>21.0</td>\n      <td>11.0</td>\n      <td>N</td>\n      <td>N</td>\n      <td>N</td>\n      <td>N</td>\n    </tr>\n    <tr>\n      <th>20755330</th>\n      <td>73653408</td>\n      <td>12/31/2007 11:58:27 PM</td>\n      <td>UNKNOW</td>\n      <td>3</td>\n      <td>UNKNOW</td>\n      <td>3</td>\n      <td>01/01/2008 12:00:24 AM</td>\n      <td>Y</td>\n      <td>117</td>\n      <td>01/01/2008 12:00:49 AM</td>\n      <td>...</td>\n      <td>10457</td>\n      <td>46.0</td>\n      <td>15.0</td>\n      <td>205.0</td>\n      <td>10.0</td>\n      <td>15.0</td>\n      <td>N</td>\n      <td>N</td>\n      <td>N</td>\n      <td>N</td>\n    </tr>\n    <tr>\n      <th>20755331</th>\n      <td>73653409</td>\n      <td>12/31/2007 11:59:09 PM</td>\n      <td>SICK</td>\n      <td>6</td>\n      <td>SICK</td>\n      <td>6</td>\n      <td>12/31/2007 11:59:37 PM</td>\n      <td>Y</td>\n      <td>28</td>\n      <td>12/31/2007 11:59:46 PM</td>\n      <td>...</td>\n      <td>11368</td>\n      <td>115.0</td>\n      <td>21.0</td>\n      <td>403.0</td>\n      <td>24.0</td>\n      <td>14.0</td>\n      <td>N</td>\n      <td>N</td>\n      <td>N</td>\n      <td>N</td>\n    </tr>\n    <tr>\n      <th>20755332</th>\n      <td>73653410</td>\n      <td>12/31/2007 11:59:40 PM</td>\n      <td>ASTHMB</td>\n      <td>2</td>\n      <td>ASTHMB</td>\n      <td>2</td>\n      <td>12/31/2007 11:59:56 PM</td>\n      <td>Y</td>\n      <td>16</td>\n      <td>12/31/2007 11:59:56 PM</td>\n      <td>...</td>\n      <td>10036</td>\n      <td>14.0</td>\n      <td>3.0</td>\n      <td>105.0</td>\n      <td>2.0</td>\n      <td>12.0</td>\n      <td>N</td>\n      <td>N</td>\n      <td>N</td>\n      <td>N</td>\n    </tr>\n  </tbody>\n</table>\n<p>7703423 rows × 31 columns</p>\n</div>"
     },
     "metadata": {},
     "execution_count": 31
    }
   ],
   "source": [
    "dispatch_df.loc[13051910:]"
   ]
  },
  {
   "cell_type": "code",
   "execution_count": 29,
   "metadata": {},
   "outputs": [
    {
     "output_type": "execute_result",
     "data": {
      "text/plain": [
       "2400"
      ]
     },
     "metadata": {},
     "execution_count": 29
    }
   ],
   "source": [
    "import pickle\n",
    "with open('experimentsConfig.pickle', 'rb') as f:\n",
    "    A = pickle.load(f)\n",
    "len(A)"
   ]
  },
  {
   "cell_type": "code",
   "execution_count": null,
   "metadata": {},
   "outputs": [],
   "source": []
  }
 ]
}